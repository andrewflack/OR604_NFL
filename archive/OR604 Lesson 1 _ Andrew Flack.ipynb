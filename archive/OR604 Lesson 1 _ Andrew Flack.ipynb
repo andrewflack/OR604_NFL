{
 "cells": [
  {
   "cell_type": "code",
   "execution_count": 2,
   "metadata": {
    "collapsed": false,
    "scrolled": true
   },
   "outputs": [
    {
     "name": "stdout",
     "output_type": "stream",
     "text": [
      "True\n",
      "11\n",
      "1\n",
      "4\n",
      "6\n",
      "4\n",
      "1\n",
      "[29, 4, 6, 79, 46, 24, 87, 39, 61, 31]\n",
      "helloworld\n"
     ]
    }
   ],
   "source": [
    "import random\n",
    "\n",
    "#### Functions for exercises Python1-Python5 \n",
    "\n",
    "# Python 1\n",
    "def even_divis(a, b):\n",
    "    if a%b > 0:\n",
    "        return False\n",
    "    else:\n",
    "        return True\n",
    "\n",
    "# Python 2\n",
    "def largest(a, b, c):\n",
    "    largest = max(a, b, c)\n",
    "    return largest\n",
    "\n",
    "# Python 3\n",
    "def factorial(n):\n",
    "    f = 1\n",
    "    while n > 0:\n",
    "        f = f*(n)\n",
    "        n -= 1\n",
    "    return f\n",
    "\n",
    "def comb(n,r):\n",
    "    num = factorial(n)\n",
    "    denom = factorial(n-r)*factorial(r)\n",
    "    result = num/denom\n",
    "    return result\n",
    "\n",
    "def kth_binom_coeff(n):\n",
    "    terms = n + 1\n",
    "    for k in range(0, terms):\n",
    "        print comb(n, k)\n",
    "\n",
    "# Python 4        \n",
    "def rand_elements(n, k):\n",
    "    if n >= k:\n",
    "        print random.sample(range(n), k)\n",
    "    else:\n",
    "        print 'Population size must be greater than or equal to sample size'\n",
    "\n",
    "# Python 5        \n",
    "def concat(a, b):\n",
    "    return str(a) + str(b)\n",
    "\n",
    "\n",
    "\n",
    "#### Python 6: Outputs for exercises Python1-Python5\n",
    "\n",
    "python1 = even_divis(6, 2)\n",
    "print python1\n",
    "\n",
    "python2 = largest(11, 10, 2)\n",
    "print python2\n",
    "\n",
    "python3 = kth_binom_coeff(4)\n",
    "\n",
    "python4 = rand_elements(100, 10)\n",
    "\n",
    "python5 = concat(\"hello\", \"world\")\n",
    "print python5"
   ]
  }
 ],
 "metadata": {
  "kernelspec": {
   "display_name": "Python 2",
   "language": "python",
   "name": "python2"
  },
  "language_info": {
   "codemirror_mode": {
    "name": "ipython",
    "version": 2
   },
   "file_extension": ".py",
   "mimetype": "text/x-python",
   "name": "python",
   "nbconvert_exporter": "python",
   "pygments_lexer": "ipython2",
   "version": "2.7.9"
  }
 },
 "nbformat": 4,
 "nbformat_minor": 0
}
